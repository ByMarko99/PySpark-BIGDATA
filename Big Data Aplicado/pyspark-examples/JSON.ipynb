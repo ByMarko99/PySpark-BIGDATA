{
 "cells": [
  {
   "cell_type": "markdown",
   "metadata": {},
   "source": [
    "# AppName eta importatu\n",
    "Import the necessary libraries, including PySpark and matplotlib for plotting."
   ]
  },
  {
   "cell_type": "code",
   "execution_count": 3,
   "metadata": {},
   "outputs": [
    {
     "name": "stderr",
     "output_type": "stream",
     "text": [
      "24/11/05 08:02:29 WARN Utils: Your hostname, aldatzeko resolves to a loopback address: 127.0.1.1; using 192.168.121.43 instead (on interface enp1s0)\n",
      "24/11/05 08:02:29 WARN Utils: Set SPARK_LOCAL_IP if you need to bind to another address\n",
      "Setting default log level to \"WARN\".\n",
      "To adjust logging level use sc.setLogLevel(newLevel). For SparkR, use setLogLevel(newLevel).\n",
      "24/11/05 08:02:30 WARN NativeCodeLoader: Unable to load native-hadoop library for your platform... using builtin-java classes where applicable\n",
      "24/11/05 08:02:31 WARN Utils: Service 'SparkUI' could not bind on port 4040. Attempting port 4041.\n"
     ]
    }
   ],
   "source": [
    "# Import the necessary libraries\n",
    "from pyspark import SparkContext\n",
    "from pyspark.sql import SparkSession\n",
    "import matplotlib.pyplot as plt\n",
    "\n",
    "# Initialize Spark session and context\n",
    "spark = SparkSession.builder.appName(\"PySpark 101 Exercises\").getOrCreate()\n",
    "sc = spark.sparkContext"
   ]
  },
  {
   "cell_type": "markdown",
   "metadata": {},
   "source": [
    "# Irakurri Data\n",
    "Irakurri data HDFS-tik at 192.168.85.2 /endomondoHR.json PySpark erabiltzen"
   ]
  },
  {
   "cell_type": "code",
   "execution_count": 11,
   "metadata": {},
   "outputs": [
    {
     "name": "stderr",
     "output_type": "stream",
     "text": [
      "                                                                                "
     ]
    },
    {
     "name": "stdout",
     "output_type": "stream",
     "text": [
      "+--------------------+------+--------------------+---------+--------------------+--------------------+--------------------+----------------+--------------------+--------------------+--------+\n",
      "|            altitude|gender|          heart_rate|       id|            latitude|           longitude|               speed|           sport|           timestamp|                 url|  userId|\n",
      "+--------------------+------+--------------------+---------+--------------------+--------------------+--------------------+----------------+--------------------+--------------------+--------+\n",
      "|[41.6, 40.6, 40.6...|  male|[100, 111, 120, 1...|396826535|[60.1733487658202...|[24.6497704088687...|[6.8652, 16.4736,...|            bike|[1408898746, 1408...|https://www.endom...|10921915|\n",
      "|[38.4, 39.0, 39.0...|  male|[100, 105, 111, 1...|392337038|[60.1732475962489...|[24.6498552337288...|[9.0792, 13.284, ...|            bike|[1408221682, 1408...|https://www.endom...|10921915|\n",
      "|[76.4, 73.2, 72.4...|  male|[99, 105, 113, 11...|389643739|[60.1732620131224...|[24.6499565709382...|[4.0464, 13.8204,...|            bike|[1407858459, 1407...|https://www.endom...|10921915|\n",
      "|[28.6, 29.4, 29.4...|  male|[99, 105, 113, 10...|386729739|[60.1732862368226...|[24.6498743444681...|[7.4988, 15.4008,...|            bike|[1407432042, 1407...|https://www.endom...|10921915|\n",
      "|[32.0, 32.0, 32.0...|  male|[110, 113, 114, 1...|383186560|[60.1732932776212...|[24.6497983206063...|                NULL|bike (transport)|[1406909434, 1406...|https://www.endom...|10921915|\n",
      "|[30.6, 30.6, 30.8...|  male|[106, 110, 113, 1...|381331596|[60.1835850812494...|[24.8177003301680...|                NULL|bike (transport)|[1406665232, 1406...|https://www.endom...|10921915|\n",
      "|[24.0, 24.0, 24.0...|  male|[118, 118, 119, 1...|381185226|[60.1732791960239...|[24.6498169284313...|[7.218, 9.8208, 1...|bike (transport)|[1406647079, 1406...|https://www.endom...|10921915|\n",
      "|[0.0, 0.0, -0.2, ...|  male|[112, 115, 118, 1...|380802496|[60.1836616918444...|[24.8174669779837...|[10.6848, 17.6616...|bike (transport)|[1406580617, 1406...|https://www.endom...|10921915|\n",
      "|[12.2, 12.2, 10.0...|  male|[100, 108, 101, 9...|372368431|[60.1733179204165...|[24.6496761962771...|                NULL|            bike|[1405281638, 1405...|https://www.endom...|10921915|\n",
      "|[21.2, 22.0, 22.0...|  male|[100, 98, 104, 10...|371302193|[60.1732459198683...|[24.6501833852380...|[16.4124, 11.682,...|            bike|[1405100572, 1405...|https://www.endom...|10921915|\n",
      "|[0.0, 0.6, 0.6, 0...|  male|[107, 112, 115, 1...|369236357|[60.1732766814529...|[24.6498210355639...|                NULL|            bike|[1404774259, 1404...|https://www.endom...|10921915|\n",
      "|[34.2, 34.2, 34.2...|  male|[99, 107, 117, 12...|367471127|[60.1733260508626...|[24.6496843267232...|                NULL|bike (transport)|[1404492369, 1404...|https://www.endom...|10921915|\n",
      "|[33.6, 32.4, 32.4...|  male|[91, 100, 107, 10...|366977747|[60.1732280664145...|[24.6497029345482...|[3.96, 13.3524, 1...|            bike|[1404415397, 1404...|https://www.endom...|10921915|\n",
      "|[39.6, 39.6, 41.8...|  male|[98, 99, 102, 106...|366415571|[60.1733661163598...|[24.6497906092554...|                NULL|            bike|[1404322247, 1404...|https://www.endom...|10921915|\n",
      "|[80.8, 81.4, 81.4...|  male|[99, 104, 118, 12...|361714712|[60.1732900924980...|[24.6496615279465...|[5.4972, 13.878, ...|            bike|[1403535990, 1403...|https://www.endom...|10921915|\n",
      "|[32.8, 31.2, 30.0...|  male|[102, 110, 117, 1...|361662390|[60.1732845604419...|[24.6497200336307...|[5.4288, 16.3044,...|            bike|[1403464723, 1403...|https://www.endom...|10921915|\n",
      "|[98.6, 98.6, 98.6...|  male|[96, 96, 99, 100,...|360780159|[60.1732976362109...|[24.6501574013382...|[9.4536, 10.6596,...|            bike|[1403377962, 1403...|https://www.endom...|10921915|\n",
      "|[129.8, 130.0, 13...|  male|[93, 101, 107, 10...|360298984|[60.1732426509261...|[24.6498465165495...|                NULL|            bike|[1403285161, 1403...|https://www.endom...|10921915|\n",
      "|[34.6, 34.4, 34.4...|  male|[92, 104, 112, 11...|359283997|[60.1732972171157...|[24.6497106458991...|[6.48, 15.5232, 1...|            bike|[1403115202, 1403...|https://www.endom...|10921915|\n",
      "|[44.4, 44.4, 44.4...|  male|[86, 88, 97, 105,...|358700141|[60.1733070239424...|[24.6497158426791...|                NULL|            bike|[1403029092, 1403...|https://www.endom...|10921915|\n",
      "+--------------------+------+--------------------+---------+--------------------+--------------------+--------------------+----------------+--------------------+--------------------+--------+\n",
      "only showing top 20 rows\n",
      "\n"
     ]
    }
   ],
   "source": [
    "# Irakurri Data\n",
    "# Irakurri data from HDFS located at 192.168.85.2 /endomondoHR.json PySpark erabiltzen\n",
    "\n",
    "# Define the HDFS path\n",
    "hdfs_path = \"hdfs://192.168.85.2:9000/endomondoHR.json\"\n",
    "\n",
    "# Json-a pasatu dataframe-era\n",
    "df = spark.read.json(hdfs_path)\n",
    "\n",
    "# Erakutsi lehenengo lerroak\n",
    "df.show()"
   ]
  },
  {
   "cell_type": "markdown",
   "metadata": {},
   "source": [
    "# Erakutsi Data Schema\n",
    "Erakutsi data schema printSchema() metodoarekin."
   ]
  },
  {
   "cell_type": "code",
   "execution_count": 13,
   "metadata": {},
   "outputs": [
    {
     "name": "stdout",
     "output_type": "stream",
     "text": [
      "root\n",
      " |-- altitude: array (nullable = true)\n",
      " |    |-- element: double (containsNull = true)\n",
      " |-- gender: string (nullable = true)\n",
      " |-- heart_rate: array (nullable = true)\n",
      " |    |-- element: long (containsNull = true)\n",
      " |-- id: long (nullable = true)\n",
      " |-- latitude: array (nullable = true)\n",
      " |    |-- element: double (containsNull = true)\n",
      " |-- longitude: array (nullable = true)\n",
      " |    |-- element: double (containsNull = true)\n",
      " |-- speed: array (nullable = true)\n",
      " |    |-- element: double (containsNull = true)\n",
      " |-- sport: string (nullable = true)\n",
      " |-- timestamp: array (nullable = true)\n",
      " |    |-- element: long (containsNull = true)\n",
      " |-- url: string (nullable = true)\n",
      " |-- userId: long (nullable = true)\n",
      "\n"
     ]
    }
   ],
   "source": [
    "# Erakutsi Data Schema\n",
    "# Erakutsi the schema of the data erabiltzen printSchema() metodoa\n",
    "\n",
    "# Bistaratu DataFrame schema\n",
    "df.printSchema()"
   ]
  },
  {
   "cell_type": "markdown",
   "metadata": {},
   "source": [
    "# Gehitu zutabe bat NULL huts kopuruarekin\n",
    "\n",
    "Zutabe berri bat gehitu, lerro bakoitzean balio nuluen kopurua zenbatuko duena."
   ]
  },
  {
   "cell_type": "code",
   "execution_count": 15,
   "metadata": {},
   "outputs": [
    {
     "name": "stdout",
     "output_type": "stream",
     "text": [
      "+--------------------+------+--------------------+---------+--------------------+--------------------+--------------------+----------------+--------------------+--------------------+--------+------------+\n",
      "|            altitude|gender|          heart_rate|       id|            latitude|           longitude|               speed|           sport|           timestamp|                 url|  userId|huts_kopurua|\n",
      "+--------------------+------+--------------------+---------+--------------------+--------------------+--------------------+----------------+--------------------+--------------------+--------+------------+\n",
      "|[41.6, 40.6, 40.6...|  male|[100, 111, 120, 1...|396826535|[60.1733487658202...|[24.6497704088687...|[6.8652, 16.4736,...|            bike|[1408898746, 1408...|https://www.endom...|10921915|           0|\n",
      "|[38.4, 39.0, 39.0...|  male|[100, 105, 111, 1...|392337038|[60.1732475962489...|[24.6498552337288...|[9.0792, 13.284, ...|            bike|[1408221682, 1408...|https://www.endom...|10921915|           0|\n",
      "|[76.4, 73.2, 72.4...|  male|[99, 105, 113, 11...|389643739|[60.1732620131224...|[24.6499565709382...|[4.0464, 13.8204,...|            bike|[1407858459, 1407...|https://www.endom...|10921915|           0|\n",
      "|[28.6, 29.4, 29.4...|  male|[99, 105, 113, 10...|386729739|[60.1732862368226...|[24.6498743444681...|[7.4988, 15.4008,...|            bike|[1407432042, 1407...|https://www.endom...|10921915|           0|\n",
      "|[32.0, 32.0, 32.0...|  male|[110, 113, 114, 1...|383186560|[60.1732932776212...|[24.6497983206063...|                NULL|bike (transport)|[1406909434, 1406...|https://www.endom...|10921915|           1|\n",
      "|[30.6, 30.6, 30.8...|  male|[106, 110, 113, 1...|381331596|[60.1835850812494...|[24.8177003301680...|                NULL|bike (transport)|[1406665232, 1406...|https://www.endom...|10921915|           1|\n",
      "|[24.0, 24.0, 24.0...|  male|[118, 118, 119, 1...|381185226|[60.1732791960239...|[24.6498169284313...|[7.218, 9.8208, 1...|bike (transport)|[1406647079, 1406...|https://www.endom...|10921915|           0|\n",
      "|[0.0, 0.0, -0.2, ...|  male|[112, 115, 118, 1...|380802496|[60.1836616918444...|[24.8174669779837...|[10.6848, 17.6616...|bike (transport)|[1406580617, 1406...|https://www.endom...|10921915|           0|\n",
      "|[12.2, 12.2, 10.0...|  male|[100, 108, 101, 9...|372368431|[60.1733179204165...|[24.6496761962771...|                NULL|            bike|[1405281638, 1405...|https://www.endom...|10921915|           1|\n",
      "|[21.2, 22.0, 22.0...|  male|[100, 98, 104, 10...|371302193|[60.1732459198683...|[24.6501833852380...|[16.4124, 11.682,...|            bike|[1405100572, 1405...|https://www.endom...|10921915|           0|\n",
      "|[0.0, 0.6, 0.6, 0...|  male|[107, 112, 115, 1...|369236357|[60.1732766814529...|[24.6498210355639...|                NULL|            bike|[1404774259, 1404...|https://www.endom...|10921915|           1|\n",
      "|[34.2, 34.2, 34.2...|  male|[99, 107, 117, 12...|367471127|[60.1733260508626...|[24.6496843267232...|                NULL|bike (transport)|[1404492369, 1404...|https://www.endom...|10921915|           1|\n",
      "|[33.6, 32.4, 32.4...|  male|[91, 100, 107, 10...|366977747|[60.1732280664145...|[24.6497029345482...|[3.96, 13.3524, 1...|            bike|[1404415397, 1404...|https://www.endom...|10921915|           0|\n",
      "|[39.6, 39.6, 41.8...|  male|[98, 99, 102, 106...|366415571|[60.1733661163598...|[24.6497906092554...|                NULL|            bike|[1404322247, 1404...|https://www.endom...|10921915|           1|\n",
      "|[80.8, 81.4, 81.4...|  male|[99, 104, 118, 12...|361714712|[60.1732900924980...|[24.6496615279465...|[5.4972, 13.878, ...|            bike|[1403535990, 1403...|https://www.endom...|10921915|           0|\n",
      "|[32.8, 31.2, 30.0...|  male|[102, 110, 117, 1...|361662390|[60.1732845604419...|[24.6497200336307...|[5.4288, 16.3044,...|            bike|[1403464723, 1403...|https://www.endom...|10921915|           0|\n",
      "|[98.6, 98.6, 98.6...|  male|[96, 96, 99, 100,...|360780159|[60.1732976362109...|[24.6501574013382...|[9.4536, 10.6596,...|            bike|[1403377962, 1403...|https://www.endom...|10921915|           0|\n",
      "|[129.8, 130.0, 13...|  male|[93, 101, 107, 10...|360298984|[60.1732426509261...|[24.6498465165495...|                NULL|            bike|[1403285161, 1403...|https://www.endom...|10921915|           1|\n",
      "|[34.6, 34.4, 34.4...|  male|[92, 104, 112, 11...|359283997|[60.1732972171157...|[24.6497106458991...|[6.48, 15.5232, 1...|            bike|[1403115202, 1403...|https://www.endom...|10921915|           0|\n",
      "|[44.4, 44.4, 44.4...|  male|[86, 88, 97, 105,...|358700141|[60.1733070239424...|[24.6497158426791...|                NULL|            bike|[1403029092, 1403...|https://www.endom...|10921915|           1|\n",
      "+--------------------+------+--------------------+---------+--------------------+--------------------+--------------------+----------------+--------------------+--------------------+--------+------------+\n",
      "only showing top 20 rows\n",
      "\n"
     ]
    }
   ],
   "source": [
    "from pyspark.sql.functions import col, when\n",
    "from functools import reduce\n",
    "\n",
    "# Add Column for Null Values Count\n",
    "# Sortu \"huts_kopurua\" zutabe berri bat, lerro bakoitzeko balio nuluen kopurua zenbatuko duena \n",
    "# Zutabe bakoitzean balio nuluak egiaztatzen dituzten zerrenda bat sortzen du.\n",
    "# (lambda a, b: a + b, [...]): Adierazpen horiek batu egiten ditu lerro bakoitzeko balio nuluen kopurua.\n",
    "'''\n",
    "DataFrameko zutabe guztien gainean iteratzen du, zutabe bakoitzean balio nuluekin zerrenda bat sortzen du,\n",
    "eta 1. itzulketa egiten du, baliogabea bada edo ez bada 0, eta gero balioak gehitzen dituen lambda funtzioa erabiltzen du reduce() erabiliz, \n",
    "lerro bakoitzeko balio nuluen kopurua zenbatuz eta zenbaketa hori huts_kopurua izeneko zutabe berri gehituz DataFrameari.\n",
    "'''\n",
    "df = df.withColumn('huts_kopurua', reduce(lambda a, b: a + b, [when(col(c).isNull(), 1).otherwise(0) for c in df.columns]))\n",
    "\n",
    "# Show\n",
    "df.show()"
   ]
  },
  {
   "cell_type": "markdown",
   "metadata": {},
   "source": [
    "# Kirol bakoitzeko dautak pilakatu eta kontatu, alegia zenbat dauden azaldu\n",
    "\n",
    "Bildu datuak kirolaren arabera eta zenbatu kirol bakoitzaren sarrera kopurua."
   ]
  },
  {
   "cell_type": "code",
   "execution_count": 26,
   "metadata": {},
   "outputs": [
    {
     "name": "stderr",
     "output_type": "stream",
     "text": [
      "[Stage 20:======================================================> (48 + 1) / 49]"
     ]
    },
    {
     "name": "stdout",
     "output_type": "stream",
     "text": [
      "+--------------------+------+\n",
      "|               sport| count|\n",
      "+--------------------+------+\n",
      "|       mountain bike| 13510|\n",
      "|cross-country skiing|   949|\n",
      "|              hiking|   357|\n",
      "|            kayaking|   255|\n",
      "|        orienteering|  1197|\n",
      "|              rowing|   127|\n",
      "|    bike (transport)| 10445|\n",
      "|      indoor cycling|  2606|\n",
      "|                walk|  3831|\n",
      "|               skate|   512|\n",
      "|                 run|117902|\n",
      "|core stability tr...|  1262|\n",
      "|              tennis|     8|\n",
      "|                bike| 98001|\n",
      "|     weight training|   237|\n",
      "|       stair climing|    13|\n",
      "|          elliptical|    83|\n",
      "|              soccer|    71|\n",
      "|   treadmill running|    70|\n",
      "|    circuit training|   218|\n",
      "+--------------------+------+\n",
      "only showing top 20 rows\n",
      "\n"
     ]
    },
    {
     "name": "stderr",
     "output_type": "stream",
     "text": [
      "                                                                                "
     ]
    }
   ],
   "source": [
    "from pyspark.sql.functions import col\n",
    "\n",
    "#Bildu datuak \"sport\" zutabearen arabera eta zenbatu kirol bakoitzeko sarrera kopurua\n",
    "sport_count_df = df.groupBy(\"sport\").count()\n",
    "#sport_count_df = df.groupBy(\"sport\").count().orderBy(col(\"count\").desc())\n",
    "\n",
    "# Show data\n",
    "sport_count_df.show()"
   ]
  },
  {
   "cell_type": "markdown",
   "metadata": {},
   "source": [
    "# (extra) 5 kirol praktikatuenak (gehien praktikatzen dutenak) erakutsi grafika batean\n",
    "Plot the top 5 most practiced sports using matplotlib."
   ]
  },
  {
   "cell_type": "code",
   "execution_count": 32,
   "metadata": {},
   "outputs": [
    {
     "name": "stderr",
     "output_type": "stream",
     "text": [
      "                                                                                "
     ]
    },
    {
     "data": {
      "image/png": "[encoded data removed]",
      "text/plain": [
       "<Figure size 1000x600 with 1 Axes>"
      ]
     },
     "metadata": {},
     "output_type": "display_data"
    },
    {
     "data": {
      "text/plain": [
       "<Axes: xlabel='sport'>"
      ]
     },
     "execution_count": 32,
     "metadata": {},
     "output_type": "execute_result"
    },
    {
     "data": {
      "image/png": "[encoded data removed]",
      "text/plain": [
       "<Figure size 640x480 with 1 Axes>"
      ]
     },
     "metadata": {},
     "output_type": "display_data"
    }
   ],
   "source": [
    "# Grafikoa\n",
    "# Import necessary libraries for plotting\n",
    "import matplotlib.pyplot as plt\n",
    "\n",
    "# 5 praktikatzen diren gehien kiroal ordenatu eta atera lehenengo 5-ak\n",
    "top_5_sports_df = sport_count_df.orderBy(col(\"count\").desc()).limit(5)\n",
    "# Collect data\n",
    "top_5_sports = top_5_sports_df.collect()\n",
    "\n",
    "# Extract sports and counts plt grafikoari pasatzeko\n",
    "sports = [row['sport'] for row in top_5_sports]\n",
    "counts = [row['count'] for row in top_5_sports]\n",
    "\n",
    "# Plot the data\n",
    "plt.figure(figsize=(10, 6))\n",
    "plt.bar(sports, counts, color='skyblue')\n",
    "plt.xlabel('Sport')\n",
    "plt.ylabel('Count')\n",
    "plt.title('5 kirol praktikatuenak')\n",
    "plt.show()\n",
    "\n",
    "top_5_sports_df = top_5_sports_df.toPandas()\n",
    "top_5_sports_df.plot(kind='bar', x='sport', y='count')"
   ]
  }
 ],
 "metadata": {
  "kernelspec": {
   "display_name": "Python 3 (ipykernel)",
   "language": "python",
   "name": "python3"
  },
  "language_info": {
   "codemirror_mode": {
    "name": "ipython",
    "version": 3
   },
   "file_extension": ".py",
   "mimetype": "text/x-python",
   "name": "python",
   "nbconvert_exporter": "python",
   "pygments_lexer": "ipython3",
   "version": "3.12.3"
  }
 },
 "nbformat": 4,
 "nbformat_minor": 4
}
