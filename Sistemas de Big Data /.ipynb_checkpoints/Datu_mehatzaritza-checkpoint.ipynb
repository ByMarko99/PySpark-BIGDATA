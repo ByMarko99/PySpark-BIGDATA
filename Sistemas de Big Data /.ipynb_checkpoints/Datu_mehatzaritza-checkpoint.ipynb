{
 "cells": [
  {
   "cell_type": "markdown",
   "id": "63fe2a1b-5998-490c-843d-2f99844f3f1f",
   "metadata": {},
   "source": [
    "# Datu Mehatzaritza"
   ]
  },
  {
   "cell_type": "markdown",
   "id": "05bae11f-4fe6-498c-aefd-62cc95c756c9",
   "metadata": {},
   "source": [
    "## Zer da datuen mehatzaritza\n",
    "\n",
    "![title](data/data-mining-in-python-700x525.jpg)\n",
    "\n",
    "Makinen ikaskuntza eta analisi estatistikoa erabiltzen datu-multzo handien ereduak, patroiak eta beste informazio baliotsu batzuk agerian usteko. Datu-baseetan jakintza deskubrimendu bezala ere ezagutzen da KDD alegia.\n",
    "\n",
    "Jarraitu beharreko pausoak ondorengoak lirateke:\n",
    "\n",
    "    1. Helburuak ezarri\n",
    "    2. Datuak hautatu/aukeratu\n",
    "    3. Datuak prestatu\n",
    "    4. Modeloak sortu edo/eta patroiak bilatu\n",
    "    5. Emaitzak ebaluatu eta aztertu\n",
    "\n",
    "    "
   ]
  },
  {
   "cell_type": "code",
   "execution_count": 1,
   "id": "d61979b8-1859-48f3-84c3-e8e40fca0e06",
   "metadata": {
    "scrolled": true
   },
   "outputs": [
    {
     "name": "stdout",
     "output_type": "stream",
     "text": [
      "Requirement already satisfied: pandas in /home/ir_inf/.venv/lib/python3.12/site-packages (2.2.3)\n",
      "Requirement already satisfied: numpy>=1.26.0 in /home/ir_inf/.venv/lib/python3.12/site-packages (from pandas) (1.26.4)\n",
      "Requirement already satisfied: python-dateutil>=2.8.2 in /home/ir_inf/.venv/lib/python3.12/site-packages (from pandas) (2.9.0.post0)\n",
      "Requirement already satisfied: pytz>=2020.1 in /home/ir_inf/.venv/lib/python3.12/site-packages (from pandas) (2024.2)\n",
      "Requirement already satisfied: tzdata>=2022.7 in /home/ir_inf/.venv/lib/python3.12/site-packages (from pandas) (2024.2)\n",
      "Requirement already satisfied: six>=1.5 in /home/ir_inf/.venv/lib/python3.12/site-packages (from python-dateutil>=2.8.2->pandas) (1.16.0)\n",
      "Note: you may need to restart the kernel to use updated packages.\n"
     ]
    }
   ],
   "source": [
    "pip install pandas"
   ]
  },
  {
   "cell_type": "code",
   "execution_count": 2,
   "id": "fe0a06dd-ccd6-4c39-849f-2653c2ab08de",
   "metadata": {
    "scrolled": true
   },
   "outputs": [
    {
     "name": "stdout",
     "output_type": "stream",
     "text": [
      "Requirement already satisfied: matplotlib in /home/ir_inf/.venv/lib/python3.12/site-packages (3.9.2)\n",
      "Requirement already satisfied: contourpy>=1.0.1 in /home/ir_inf/.venv/lib/python3.12/site-packages (from matplotlib) (1.3.0)\n",
      "Requirement already satisfied: cycler>=0.10 in /home/ir_inf/.venv/lib/python3.12/site-packages (from matplotlib) (0.12.1)\n",
      "Requirement already satisfied: fonttools>=4.22.0 in /home/ir_inf/.venv/lib/python3.12/site-packages (from matplotlib) (4.54.1)\n",
      "Requirement already satisfied: kiwisolver>=1.3.1 in /home/ir_inf/.venv/lib/python3.12/site-packages (from matplotlib) (1.4.7)\n",
      "Requirement already satisfied: numpy>=1.23 in /home/ir_inf/.venv/lib/python3.12/site-packages (from matplotlib) (1.26.4)\n",
      "Requirement already satisfied: packaging>=20.0 in /home/ir_inf/.venv/lib/python3.12/site-packages (from matplotlib) (24.1)\n",
      "Requirement already satisfied: pillow>=8 in /home/ir_inf/.venv/lib/python3.12/site-packages (from matplotlib) (11.0.0)\n",
      "Requirement already satisfied: pyparsing>=2.3.1 in /home/ir_inf/.venv/lib/python3.12/site-packages (from matplotlib) (3.2.0)\n",
      "Requirement already satisfied: python-dateutil>=2.7 in /home/ir_inf/.venv/lib/python3.12/site-packages (from matplotlib) (2.9.0.post0)\n",
      "Requirement already satisfied: six>=1.5 in /home/ir_inf/.venv/lib/python3.12/site-packages (from python-dateutil>=2.7->matplotlib) (1.16.0)\n",
      "Note: you may need to restart the kernel to use updated packages.\n"
     ]
    }
   ],
   "source": [
    "pip install matplotlib"
   ]
  },
  {
   "cell_type": "code",
   "execution_count": 3,
   "id": "a92784b2-6617-4c8d-a7ac-b9f99fe65cd7",
   "metadata": {},
   "outputs": [
    {
     "name": "stdout",
     "output_type": "stream",
     "text": [
      "Requirement already satisfied: scipy in /home/ir_inf/.venv/lib/python3.12/site-packages (1.14.1)\n",
      "Requirement already satisfied: numpy<2.3,>=1.23.5 in /home/ir_inf/.venv/lib/python3.12/site-packages (from scipy) (1.26.4)\n",
      "Note: you may need to restart the kernel to use updated packages.\n"
     ]
    }
   ],
   "source": [
    "pip install scipy"
   ]
  },
  {
   "cell_type": "code",
   "execution_count": null,
   "id": "7669eda6-19fb-45c1-83dc-37cd8f0dde74",
   "metadata": {},
   "outputs": [],
   "source": [
    "pip install seaborn"
   ]
  },
  {
   "cell_type": "code",
   "execution_count": null,
   "id": "5154db59-001e-4062-a494-a50710ff3a2b",
   "metadata": {},
   "outputs": [],
   "source": [
    "pip install statsmodels"
   ]
  },
  {
   "cell_type": "code",
   "execution_count": null,
   "id": "a113351b-5dec-4d09-9c62-114b9f04dfbb",
   "metadata": {},
   "outputs": [],
   "source": [
    "import pandas as pd\n",
    "import matplotlib.pyplot as plt\n",
    "import numpy as np\n",
    "import scipy.stats as stats\n",
    "import seaborn as sns\n",
    "import matplotlib as rcParams"
   ]
  },
  {
   "cell_type": "code",
   "execution_count": null,
   "id": "db3c386a-31f6-4b02-9704-afd4a97bae38",
   "metadata": {},
   "outputs": [],
   "source": [
    "df = pd.read_csv(\"data/kc_house_data.csv\")\n",
    "df.head()"
   ]
  },
  {
   "cell_type": "markdown",
   "id": "893161c8-4167-4978-bfa9-d64620cb9475",
   "metadata": {},
   "source": [
    "Balio nuloei begirada bat botako diegu"
   ]
  },
  {
   "cell_type": "code",
   "execution_count": null,
   "id": "aa4638cf-0c4f-47e1-8c76-575c7be17e51",
   "metadata": {},
   "outputs": [],
   "source": [
    "df.isnull().any()"
   ]
  },
  {
   "cell_type": "code",
   "execution_count": null,
   "id": "940a4c9c-7ad5-4bfc-9d1a-48548f7a9dfd",
   "metadata": {},
   "outputs": [],
   "source": [
    "Zein datu mota ditugu DataFramean?"
   ]
  },
  {
   "cell_type": "code",
   "execution_count": null,
   "id": "65858e46-175c-4f4f-8599-6e2ad82d4bee",
   "metadata": {},
   "outputs": [],
   "source": [
    "df.dtypes"
   ]
  },
  {
   "cell_type": "markdown",
   "id": "003b7101-4452-4015-8971-39e03dcd3d4d",
   "metadata": {},
   "source": [
    "Datu hauek analisirako prestatuta daude jada. Hau ez da ohikoa izango zuek analisiak egin behar dituzuenean. Ondoren dtauen forma aztertzea izango da garrantzitsua."
   ]
  },
  {
   "cell_type": "code",
   "execution_count": null,
   "id": "71bf4727-64b4-4661-b9b7-2886de1a68fb",
   "metadata": {},
   "outputs": [],
   "source": [
    "df.describe()"
   ]
  },
  {
   "cell_type": "code",
   "execution_count": null,
   "id": "99d3b620-5cb4-46cf-ad5e-c092c2d6bade",
   "metadata": {},
   "outputs": [],
   "source": [
    "Hemen berehala ikusten ditugu zenbat datu erregistro ditugun "
   ]
  },
  {
   "cell_type": "code",
   "execution_count": null,
   "id": "90e67726-12bd-4971-af0e-5906051f64be",
   "metadata": {},
   "outputs": [],
   "source": [
    "fig = plt.figure(figsize=(12, 6))\n",
    "sqft = fig.add_subplot(121)\n",
    "cost = fig.add_subplot(122)\n",
    "\n",
    "sqft.hist(df.sqft_living, bins=80)\n",
    "sqft.set_xlabel('Ft^2')\n",
    "sqft.set_title(\"Historigram of House Square Footage\")\n",
    "\n",
    "cost.hist(df.price, bins=80)\n",
    "cost.set_xlabel('Price ($)')\n",
    "cost.set_title(\"Historigram of Housing Prices\")"
   ]
  },
  {
   "cell_type": "code",
   "execution_count": null,
   "id": "2c6befd7-5545-4cf1-b267-5b66eddbdb9d",
   "metadata": {},
   "outputs": [],
   "source": [
    "import statsmodels.api as sm\n",
    "from statsmodels.formula.api import ols"
   ]
  },
  {
   "cell_type": "markdown",
   "id": "abde67da-ecab-48f6-b89d-3e42291f2962",
   "metadata": {},
   "source": [
    "# OLS Erregresioaren Emaitzak - Azalpena\n",
    "\n",
    "## R-karratua eta Egokitutako R-karratua\n",
    "- **R-karratua**: 0.493\n",
    "  - **49.3%** \"price\" aldagaiaren (salmenta-prezioa) aldaera azaltzen duela modeloak. Hau da, erregresioak salmenta-prezioaren aldaeraren erdia baino gutxiago azaltzen du.\n",
    "  - **Egokitutako R-karratua** 0.493 da, eta horrek adierazten du modeloak **egokitu** egin dela, kontuan hartuta aldagai kopurua.\n",
    "\n",
    "## F-estatistikoa eta Prob(F-statistikoa)\n",
    "- **F-estatistikoa**: 21,000\n",
    "- **Prob (F-statistikoa)**: 0.000\n",
    "  - F-estatistikoa oso handia da (21,000), eta horrek adierazten du modeloak **ahalmen handia duela salmenta-prezioaren aldaera azaltzeko**.\n",
    "  - Prob (F-statistikoa) balioa 0.000 da, eta horrek adierazten du modelo **esanguratsua** dela, hau da, kasualitatea ez dela.\n",
    "\n",
    "## Koefizienteak\n",
    "- **Intersektzioa**: -43,580\n",
    "  - Interceptzioak adierazten du, **sqft_living** (bizitokiaren azalera) eta beste aldagai guztiak zero balioak diren bitartean, salmenta-prezioa **-43,580** izango dela. Balio hau praktikan ez du zentzurik, izan ere, etxebizitzaren azalerak normalean zero ez dira izango.\n",
    "\n",
    "- **sqft_living (bizitokiaren azalera, metro koadroetan)**: 280.6236\n",
    "  - Honek adierazten du, etxebizitzaren **azalera** handitzen den heinean, **280.62 unitate** (adibidez, dolar edo beste moneta) igoko dela salmenta-prezioa metro koadro bakoitzeko.\n",
    "\n",
    "## T-test eta P-balioak (t, P>|t|)\n",
    "- **t-test** eta **P>|t|**: P-balioak (0.000) adierazten dute **sqft_living** aldagaiak salmenta-prezioa azaltzeko **esanguratsua** dela.\n",
    "  - Koefizientea **esanguratsua** da, eta horrek esan nahi du, etxebizitzaren azalerak **garrantzi handia** duela salmenta-prezioaren inguruan.\n",
    "\n",
    "## Omnibus Test, Skew eta Kurtosis\n",
    "- **Omnibus test**: 14,832.490 eta **Prob (Omnibus)**: 0.000\n",
    "  - Omnibus test batek **normaltasunaren aurkako froga** egiten du erroreen banaketa aztertuz. Honek adierazten du erroreak ez direla **normalak**, eta horrek posible den beste arazo batzuk adieraz dezake modeloan.\n",
    "  \n",
    "- **Skew**: 2.824\n",
    "  - **Skew** balio positiboa da, eta hori adierazten du banaketa **desorekatuta** dagoela. Skew positiboa denean, banaketa **eskuinean luzatuta** dago (tail-a eskuinera) eta balio altuak gehiago agertzen dira.\n",
    "\n",
    "- **Kurtosis**: 26.977\n",
    "  - **Kurtosis** balio handia (26.977) da, eta honek adierazten du errore-banaketa **zulo txikiko** eta **muturreko balio altuekin** dagoela, hau da, datuak **baldintza normala baino gehiago kontzentratuta** daude muturreko aldeetan.\n",
    "\n",
    "## Jarque-Bera Test\n",
    "- **Jarque-Bera (JB)**: 546,444.713 eta **Prob(JB)**: 0.000\n",
    "  - **Jarque-Bera testak** normaltasunaren aurkako froga egiten du eta, kasu honetan, p-balioak 0.000 dira, honek adierazten du **erroreak ez direla normaltasunarekin bat** eta erroreak **normalak ez direla**.\n",
    "\n",
    "## Durbin-Watson Test\n",
    "- **Durbin-Watson**: 1.983\n",
    "  - Durbin-Watson testak adierazten du **autokorelaziorik ez** dagoela erroreen artean. Hori positiboa da, izan ere, errore bakoitza besteekin lotuta ez dagoela esan nahi du.\n",
    "\n",
    "## Multikolinealtasunaren Arriskua\n",
    "- **Cond. No.**: 5,630\n",
    "  - Kondizio-kopurua (cond. no.) altua da (5,630), eta hori **multikolinealtasun**aren seinale izan daiteke. Multikolinealtasuna adierazten du aldagai batzuk elkarren artean **gehiegi lotuta daudela**, eta horrek erregresioaren zehaztasuna murriztu dezake.\n",
    "\n",
    "## Covariance Type\n",
    "- **Covariance Type**: nonrobust\n",
    "  - **Covariance tipoa** \"nonrobust\" da, hau da, errore-estimazioak **robust** ez direla, eta errorearen zirkunstantziak normala ez badira, errore-estimazioak **murriztuta** egon daitezke. Hau aldatu daiteke **robust** estimazioak erabiliz.\n"
   ]
  },
  {
   "cell_type": "code",
   "execution_count": null,
   "id": "19a766ab",
   "metadata": {},
   "outputs": [],
   "source": [
    "m = ols('price ~ sqft_living', df).fit()\n",
    "print(m.summary())"
   ]
  },
  {
   "cell_type": "code",
   "execution_count": null,
   "id": "2a5cb3b6-6914-4325-a094-775fa35417b3",
   "metadata": {},
   "outputs": [],
   "source": [
    "m = ols('price ~ sqft_living + bedrooms + grade + condition', df).fit()\n",
    "print(m.summary())"
   ]
  },
  {
   "cell_type": "code",
   "execution_count": null,
   "id": "2ee8ffce-5a10-4c21-ab35-1822ca9f093e",
   "metadata": {},
   "outputs": [],
   "source": [
    "sns.jointplot(x=\"sqft_living\", y=\"price\", data=df, kind='reg', fit_reg=True)\n",
    "plt.show()"
   ]
  },
  {
   "cell_type": "code",
   "execution_count": null,
   "id": "4802f762-1d0d-4887-a78a-8d24ca07f426",
   "metadata": {},
   "outputs": [],
   "source": [
    "plt.figure(figsize=(8,6))\n",
    "plt.scatter(df['price'],df['bedrooms'])\n",
    "plt.xlabel('price')\n",
    "plt.ylabel('bedrooms')\n",
    "plt.grid(True)\n",
    "plt.show()"
   ]
  },
  {
   "cell_type": "code",
   "execution_count": null,
   "id": "f8cded6d-c055-44fe-8c60-d977a907e0ef",
   "metadata": {},
   "outputs": [],
   "source": []
  }
 ],
 "metadata": {
  "kernelspec": {
   "display_name": "Python 3 (ipykernel)",
   "language": "python",
   "name": "python3"
  },
  "language_info": {
   "codemirror_mode": {
    "name": "ipython",
    "version": 3
   },
   "file_extension": ".py",
   "mimetype": "text/x-python",
   "name": "python",
   "nbconvert_exporter": "python",
   "pygments_lexer": "ipython3",
   "version": "3.12.3"
  }
 },
 "nbformat": 4,
 "nbformat_minor": 5
}
